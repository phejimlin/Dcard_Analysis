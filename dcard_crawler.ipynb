{
 "cells": [
  {
   "cell_type": "code",
   "execution_count": 1,
   "metadata": {
    "collapsed": true
   },
   "outputs": [],
   "source": [
    "import requests\n",
    "from pymongo import MongoClient\n",
    "client = MongoClient()\n",
    "db = client.dcard"
   ]
  },
  {
   "cell_type": "code",
   "execution_count": null,
   "metadata": {
    "collapsed": true
   },
   "outputs": [],
   "source": [
    "# forum_url = 'https://www.dcard.tw/_api/forums/' + forum_name + '/posts'\n",
    "\n",
    "# post_url = 'https://www.dcard.tw/_api/posts/225961161'\n",
    "# comment_url = 'https://www.dcard.tw/_api/posts/225961161/comments?after=60'\n",
    "\n",
    "forum_name_list = ['vehicle', 'language', 'relationship', 'girl', 'makeup', 'dressup', 'funny', 'rainbow', 'marvel', 'boy', 'horoscopes', 'food', 'mood', 'pet', 'handicrafts', 'trending', 'talk', 'acg', 'game', 'pokemon', 'movie', 'photography', '3c', 'job', 'music', 'sport', 'travel', 'book', 'studyabroad', 'literature', 'exam', 'course', 'sex', 'dcard', 'whysoserious']\n",
    "board_name = ['汽機車', '語言', '感情', '女孩', '美妝', '穿搭', '有趣', '彩虹', '靈異', '男孩', '星座', '美食', '心情', '寵物', '手作', '時事', '閒聊', '動漫', '遊戲', '寶可夢', '影劇', '攝影', '3C', '工作', '音樂', '運動', '旅遊', '書籍', '留學', '詩文', '考試', '課程', '西斯', 'Dcard', '廢文']"
   ]
  },
  {
   "cell_type": "code",
   "execution_count": 8,
   "metadata": {
    "collapsed": true
   },
   "outputs": [],
   "source": [
    "def crawl_posts_list(forum_name, last_post_id = None):\n",
    "    print(\"crawling forum_name: \"+ forum_name)\n",
    "    forum_url = 'https://www.dcard.tw/_api/forums/' + forum_name + '/posts'\n",
    "    if last_post_id != None:\n",
    "        print(\"crawling forum_name: \"+ forum_name + \" before = \"+ str(last_post_id))\n",
    "        forum_url = 'https://www.dcard.tw/_api/forums/' + forum_name + '/posts?before=' + str(last_post_id)\n",
    "    res = crawler(forum_url)\n",
    "    print(\"post length: \"+ str(len(res)))\n",
    "    return res\n",
    "\n",
    "\n",
    "def crawl_post(post_id):\n",
    "    print(\"crawling post: \"+ str(post_id))\n",
    "    post_url = 'https://www.dcard.tw/_api/posts/' + str(post_id)\n",
    "    res = crawler(post_url)\n",
    "    return res\n",
    "   \n",
    "\n",
    "def crawl_comment(post_id, lase_comment_count = None):\n",
    "    print(\"crawling comment: \"+ str(post_id))\n",
    "    comment_url = 'https://www.dcard.tw/_api/posts/'+ str(post_id) +'/comments?after=' + str(lase_comment_count)\n",
    "    res = crawler(comment_url)\n",
    "    print(\"comment length: \"+ str(len(res)))\n",
    "    return res\n",
    "            \n",
    "\n",
    "def change_id_to_mongodb_format(data_list):\n",
    "    if type(data_list) == dict:\n",
    "        data_list = [data_list]\n",
    "    for data in data_list:\n",
    "        data['_id'] = data['id']\n",
    "        data.pop('id', None)\n",
    "    return data_list\n"
   ]
  },
  {
   "cell_type": "code",
   "execution_count": 9,
   "metadata": {
    "collapsed": true
   },
   "outputs": [],
   "source": [
    "def crawler(url):\n",
    "    res = requests.get(url)\n",
    "    res.encoding = 'utf-8'\n",
    "    return res.json()\n",
    "\n",
    "\n",
    "def insert_to_mongodb(collection_name, data_list):\n",
    "    if len(data_list) > 0 :\n",
    "        for data in data_list:\n",
    "            db[collection_name].update_one({'_id':data['_id']}, {'$set': data}, True)\n",
    "    else:\n",
    "        return"
   ]
  },
  {
   "cell_type": "code",
   "execution_count": null,
   "metadata": {
    "collapsed": false,
    "scrolled": true
   },
   "outputs": [],
   "source": [
    "forum_name = 'vehicle'\n",
    "last_post_id = None\n",
    "while True:\n",
    "    posts_list = crawl_posts_list(forum_name, last_post_id=last_post_id)\n",
    "    if len(posts_list) == 0:\n",
    "        print(\"Finish forum_name crawling!\")\n",
    "        break\n",
    "    for index, post in enumerate(posts_list):\n",
    "        post_id = post['id']\n",
    "        insert_to_mongodb(forum_name + '_posts', change_id_to_mongodb_format(crawl_post(post_id)))\n",
    "        \n",
    "        if post['commentCount'] <= 30:\n",
    "            comment_data = crawl_comment(post_id, 0)\n",
    "            insert_to_mongodb(forum_name + '_comments', change_id_to_mongodb_format(comment_data))\n",
    "        else:\n",
    "            lase_comment_count = 0\n",
    "            while True:\n",
    "                comment_data = crawl_comment(post_id, lase_comment_count)\n",
    "                if len(comment_data) == 0:\n",
    "                    break\n",
    "                insert_to_mongodb(forum_name + '_comments', change_id_to_mongodb_format(comment_data))\n",
    "                lase_comment_count += 30\n",
    "\n",
    "        if index == len(posts_list)-1:\n",
    "            print(\"Crawl next 30 posts!\")\n",
    "            last_post_id = post_id"
   ]
  },
  {
   "cell_type": "code",
   "execution_count": null,
   "metadata": {
    "collapsed": true
   },
   "outputs": [],
   "source": []
  }
 ],
 "metadata": {
  "kernelspec": {
   "display_name": "Python 3",
   "language": "python",
   "name": "python3"
  },
  "language_info": {
   "codemirror_mode": {
    "name": "ipython",
    "version": 3
   },
   "file_extension": ".py",
   "mimetype": "text/x-python",
   "name": "python",
   "nbconvert_exporter": "python",
   "pygments_lexer": "ipython3",
   "version": "3.6.0"
  }
 },
 "nbformat": 4,
 "nbformat_minor": 2
}
